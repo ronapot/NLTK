{
  "nbformat": 4,
  "nbformat_minor": 0,
  "metadata": {
    "colab": {
      "name": "2-introduction-to-pandas.ipynb",
      "version": "0.3.2",
      "provenance": [],
      "collapsed_sections": []
    },
    "kernelspec": {
      "name": "python2",
      "display_name": "Python 2"
    }
  },
  "cells": [
    {
      "metadata": {
        "id": "2U6qajqB0SEp",
        "colab_type": "code",
        "colab": {
          "base_uri": "https://localhost:8080/",
          "height": 254
        },
        "outputId": "397c0360-d4bc-491a-fed6-84556df10ce2"
      },
      "cell_type": "code",
      "source": [
        "df.head()"
      ],
      "execution_count": 9,
      "outputs": [
        {
          "output_type": "execute_result",
          "data": {
            "text/html": [
              "<div>\n",
              "<style scoped>\n",
              "    .dataframe tbody tr th:only-of-type {\n",
              "        vertical-align: middle;\n",
              "    }\n",
              "\n",
              "    .dataframe tbody tr th {\n",
              "        vertical-align: top;\n",
              "    }\n",
              "\n",
              "    .dataframe thead th {\n",
              "        text-align: right;\n",
              "    }\n",
              "</style>\n",
              "<table border=\"1\" class=\"dataframe\">\n",
              "  <thead>\n",
              "    <tr style=\"text-align: right;\">\n",
              "      <th></th>\n",
              "      <th>Make</th>\n",
              "      <th>Model</th>\n",
              "      <th>Type</th>\n",
              "      <th>Origin</th>\n",
              "      <th>DriveTrain</th>\n",
              "      <th>MSRP</th>\n",
              "      <th>Invoice</th>\n",
              "      <th>EngineSize</th>\n",
              "      <th>Cylinders</th>\n",
              "      <th>Horsepower</th>\n",
              "      <th>MPG_City</th>\n",
              "      <th>MPG_Highway</th>\n",
              "      <th>Weight</th>\n",
              "      <th>Wheelbase</th>\n",
              "      <th>Length</th>\n",
              "    </tr>\n",
              "  </thead>\n",
              "  <tbody>\n",
              "    <tr>\n",
              "      <th>0</th>\n",
              "      <td>Acura</td>\n",
              "      <td>MDX</td>\n",
              "      <td>SUV</td>\n",
              "      <td>Asia</td>\n",
              "      <td>All</td>\n",
              "      <td>36945.0</td>\n",
              "      <td>33337.0</td>\n",
              "      <td>3.5</td>\n",
              "      <td>6.0</td>\n",
              "      <td>265.0</td>\n",
              "      <td>17.0</td>\n",
              "      <td>23.0</td>\n",
              "      <td>4451.0</td>\n",
              "      <td>106.0</td>\n",
              "      <td>189.0</td>\n",
              "    </tr>\n",
              "    <tr>\n",
              "      <th>1</th>\n",
              "      <td>Acura</td>\n",
              "      <td>RSX Type S 2dr</td>\n",
              "      <td>Sedan</td>\n",
              "      <td>Asia</td>\n",
              "      <td>Front</td>\n",
              "      <td>23820.0</td>\n",
              "      <td>21761.0</td>\n",
              "      <td>2.0</td>\n",
              "      <td>4.0</td>\n",
              "      <td>200.0</td>\n",
              "      <td>24.0</td>\n",
              "      <td>31.0</td>\n",
              "      <td>2778.0</td>\n",
              "      <td>101.0</td>\n",
              "      <td>172.0</td>\n",
              "    </tr>\n",
              "    <tr>\n",
              "      <th>2</th>\n",
              "      <td>Acura</td>\n",
              "      <td>TSX 4dr</td>\n",
              "      <td>Sedan</td>\n",
              "      <td>Asia</td>\n",
              "      <td>Front</td>\n",
              "      <td>26990.0</td>\n",
              "      <td>24647.0</td>\n",
              "      <td>2.4</td>\n",
              "      <td>4.0</td>\n",
              "      <td>200.0</td>\n",
              "      <td>22.0</td>\n",
              "      <td>29.0</td>\n",
              "      <td>3230.0</td>\n",
              "      <td>105.0</td>\n",
              "      <td>183.0</td>\n",
              "    </tr>\n",
              "    <tr>\n",
              "      <th>3</th>\n",
              "      <td>Acura</td>\n",
              "      <td>TL 4dr</td>\n",
              "      <td>Sedan</td>\n",
              "      <td>Asia</td>\n",
              "      <td>Front</td>\n",
              "      <td>33195.0</td>\n",
              "      <td>30299.0</td>\n",
              "      <td>3.2</td>\n",
              "      <td>6.0</td>\n",
              "      <td>270.0</td>\n",
              "      <td>20.0</td>\n",
              "      <td>28.0</td>\n",
              "      <td>3575.0</td>\n",
              "      <td>108.0</td>\n",
              "      <td>186.0</td>\n",
              "    </tr>\n",
              "    <tr>\n",
              "      <th>4</th>\n",
              "      <td>Acura</td>\n",
              "      <td>3.5 RL 4dr</td>\n",
              "      <td>Sedan</td>\n",
              "      <td>Asia</td>\n",
              "      <td>Front</td>\n",
              "      <td>43755.0</td>\n",
              "      <td>39014.0</td>\n",
              "      <td>3.5</td>\n",
              "      <td>6.0</td>\n",
              "      <td>225.0</td>\n",
              "      <td>18.0</td>\n",
              "      <td>24.0</td>\n",
              "      <td>3880.0</td>\n",
              "      <td>115.0</td>\n",
              "      <td>197.0</td>\n",
              "    </tr>\n",
              "  </tbody>\n",
              "</table>\n",
              "</div>"
            ],
            "text/plain": [
              "    Make           Model   Type Origin DriveTrain     MSRP  Invoice  \\\n",
              "0  Acura             MDX    SUV   Asia        All  36945.0  33337.0   \n",
              "1  Acura  RSX Type S 2dr  Sedan   Asia      Front  23820.0  21761.0   \n",
              "2  Acura         TSX 4dr  Sedan   Asia      Front  26990.0  24647.0   \n",
              "3  Acura          TL 4dr  Sedan   Asia      Front  33195.0  30299.0   \n",
              "4  Acura      3.5 RL 4dr  Sedan   Asia      Front  43755.0  39014.0   \n",
              "\n",
              "   EngineSize  Cylinders  Horsepower  MPG_City  MPG_Highway  Weight  \\\n",
              "0         3.5        6.0       265.0      17.0         23.0  4451.0   \n",
              "1         2.0        4.0       200.0      24.0         31.0  2778.0   \n",
              "2         2.4        4.0       200.0      22.0         29.0  3230.0   \n",
              "3         3.2        6.0       270.0      20.0         28.0  3575.0   \n",
              "4         3.5        6.0       225.0      18.0         24.0  3880.0   \n",
              "\n",
              "   Wheelbase  Length  \n",
              "0      106.0   189.0  \n",
              "1      101.0   172.0  \n",
              "2      105.0   183.0  \n",
              "3      108.0   186.0  \n",
              "4      115.0   197.0  "
            ]
          },
          "metadata": {
            "tags": []
          },
          "execution_count": 9
        }
      ]
    },
    {
      "metadata": {
        "id": "WDIpAt_Q0OPx",
        "colab_type": "code",
        "colab": {
          "base_uri": "https://localhost:8080/",
          "height": 87
        },
        "outputId": "05a8e237-98b6-407f-9e95-38d89cd4e81c"
      },
      "cell_type": "code",
      "source": [
        "df.columns"
      ],
      "execution_count": 8,
      "outputs": [
        {
          "output_type": "execute_result",
          "data": {
            "text/plain": [
              "Index([u'Make', u'Model', u'Type', u'Origin', u'DriveTrain', u'MSRP',\n",
              "       u'Invoice', u'EngineSize', u'Cylinders', u'Horsepower', u'MPG_City',\n",
              "       u'MPG_Highway', u'Weight', u'Wheelbase', u'Length'],\n",
              "      dtype='object')"
            ]
          },
          "metadata": {
            "tags": []
          },
          "execution_count": 8
        }
      ]
    },
    {
      "metadata": {
        "id": "Snm91TkSxDfj",
        "colab_type": "code",
        "colab": {
          "base_uri": "https://localhost:8080/",
          "height": 295
        },
        "outputId": "d71dbc59-a441-472a-e331-942d56933c9b"
      },
      "cell_type": "code",
      "source": [
        "import pandas as pd\n",
        "\n",
        "df = pd.read_csv('https://raw.githubusercontent.com/sassoftware/sas-viya-programming/master/data/cars.csv')\n",
        "\n",
        "df.dtypes"
      ],
      "execution_count": 7,
      "outputs": [
        {
          "output_type": "execute_result",
          "data": {
            "text/plain": [
              "Make            object\n",
              "Model           object\n",
              "Type            object\n",
              "Origin          object\n",
              "DriveTrain      object\n",
              "MSRP           float64\n",
              "Invoice        float64\n",
              "EngineSize     float64\n",
              "Cylinders      float64\n",
              "Horsepower     float64\n",
              "MPG_City       float64\n",
              "MPG_Highway    float64\n",
              "Weight         float64\n",
              "Wheelbase      float64\n",
              "Length         float64\n",
              "dtype: object"
            ]
          },
          "metadata": {
            "tags": []
          },
          "execution_count": 7
        }
      ]
    },
    {
      "metadata": {
        "id": "BeuKPosv0uOA",
        "colab_type": "code",
        "colab": {
          "base_uri": "https://localhost:8080/",
          "height": 364
        },
        "outputId": "8dbb6ecc-0e32-4b61-fedd-b74318715a99"
      },
      "cell_type": "code",
      "source": [
        "df.info()"
      ],
      "execution_count": 11,
      "outputs": [
        {
          "output_type": "stream",
          "text": [
            "<class 'pandas.core.frame.DataFrame'>\n",
            "RangeIndex: 428 entries, 0 to 427\n",
            "Data columns (total 15 columns):\n",
            "Make           428 non-null object\n",
            "Model          428 non-null object\n",
            "Type           428 non-null object\n",
            "Origin         428 non-null object\n",
            "DriveTrain     428 non-null object\n",
            "MSRP           428 non-null float64\n",
            "Invoice        428 non-null float64\n",
            "EngineSize     428 non-null float64\n",
            "Cylinders      426 non-null float64\n",
            "Horsepower     428 non-null float64\n",
            "MPG_City       428 non-null float64\n",
            "MPG_Highway    428 non-null float64\n",
            "Weight         428 non-null float64\n",
            "Wheelbase      428 non-null float64\n",
            "Length         428 non-null float64\n",
            "dtypes: float64(10), object(5)\n",
            "memory usage: 50.2+ KB\n"
          ],
          "name": "stdout"
        }
      ]
    },
    {
      "metadata": {
        "id": "egCAB3XV0X-p",
        "colab_type": "code",
        "colab": {
          "base_uri": "https://localhost:8080/",
          "height": 202
        },
        "outputId": "10383ed9-41d7-4d3d-f110-077b8a52dc2b"
      },
      "cell_type": "code",
      "source": [
        "subdf = df[['Make','Model','Horsepower']]\n",
        "subdf.head()"
      ],
      "execution_count": 10,
      "outputs": [
        {
          "output_type": "execute_result",
          "data": {
            "text/html": [
              "<div>\n",
              "<style scoped>\n",
              "    .dataframe tbody tr th:only-of-type {\n",
              "        vertical-align: middle;\n",
              "    }\n",
              "\n",
              "    .dataframe tbody tr th {\n",
              "        vertical-align: top;\n",
              "    }\n",
              "\n",
              "    .dataframe thead th {\n",
              "        text-align: right;\n",
              "    }\n",
              "</style>\n",
              "<table border=\"1\" class=\"dataframe\">\n",
              "  <thead>\n",
              "    <tr style=\"text-align: right;\">\n",
              "      <th></th>\n",
              "      <th>Make</th>\n",
              "      <th>Model</th>\n",
              "      <th>Horsepower</th>\n",
              "    </tr>\n",
              "  </thead>\n",
              "  <tbody>\n",
              "    <tr>\n",
              "      <th>0</th>\n",
              "      <td>Acura</td>\n",
              "      <td>MDX</td>\n",
              "      <td>265.0</td>\n",
              "    </tr>\n",
              "    <tr>\n",
              "      <th>1</th>\n",
              "      <td>Acura</td>\n",
              "      <td>RSX Type S 2dr</td>\n",
              "      <td>200.0</td>\n",
              "    </tr>\n",
              "    <tr>\n",
              "      <th>2</th>\n",
              "      <td>Acura</td>\n",
              "      <td>TSX 4dr</td>\n",
              "      <td>200.0</td>\n",
              "    </tr>\n",
              "    <tr>\n",
              "      <th>3</th>\n",
              "      <td>Acura</td>\n",
              "      <td>TL 4dr</td>\n",
              "      <td>270.0</td>\n",
              "    </tr>\n",
              "    <tr>\n",
              "      <th>4</th>\n",
              "      <td>Acura</td>\n",
              "      <td>3.5 RL 4dr</td>\n",
              "      <td>225.0</td>\n",
              "    </tr>\n",
              "  </tbody>\n",
              "</table>\n",
              "</div>"
            ],
            "text/plain": [
              "    Make           Model  Horsepower\n",
              "0  Acura             MDX       265.0\n",
              "1  Acura  RSX Type S 2dr       200.0\n",
              "2  Acura         TSX 4dr       200.0\n",
              "3  Acura          TL 4dr       270.0\n",
              "4  Acura      3.5 RL 4dr       225.0"
            ]
          },
          "metadata": {
            "tags": []
          },
          "execution_count": 10
        }
      ]
    },
    {
      "metadata": {
        "id": "OrsIUtkW07Y4",
        "colab_type": "code",
        "colab": {
          "base_uri": "https://localhost:8080/",
          "height": 121
        },
        "outputId": "3b85a4aa-ea69-423d-b2eb-fc8888a3151f"
      },
      "cell_type": "code",
      "source": [
        "# model = df['Model']\n",
        "\n",
        "model = df.Model\n",
        "model.head()"
      ],
      "execution_count": 13,
      "outputs": [
        {
          "output_type": "execute_result",
          "data": {
            "text/plain": [
              "0               MDX\n",
              "1    RSX Type S 2dr\n",
              "2           TSX 4dr\n",
              "3            TL 4dr\n",
              "4        3.5 RL 4dr\n",
              "Name: Model, dtype: object"
            ]
          },
          "metadata": {
            "tags": []
          },
          "execution_count": 13
        }
      ]
    },
    {
      "metadata": {
        "id": "xf1C8TOs1Kh_",
        "colab_type": "code",
        "colab": {
          "base_uri": "https://localhost:8080/",
          "height": 261
        },
        "outputId": "b11320ac-0538-4e8c-b948-d68cddece961"
      },
      "cell_type": "code",
      "source": [
        "#slicing\n",
        "\n",
        "df.iloc[3:7]"
      ],
      "execution_count": 14,
      "outputs": [
        {
          "output_type": "execute_result",
          "data": {
            "text/html": [
              "<div>\n",
              "<style scoped>\n",
              "    .dataframe tbody tr th:only-of-type {\n",
              "        vertical-align: middle;\n",
              "    }\n",
              "\n",
              "    .dataframe tbody tr th {\n",
              "        vertical-align: top;\n",
              "    }\n",
              "\n",
              "    .dataframe thead th {\n",
              "        text-align: right;\n",
              "    }\n",
              "</style>\n",
              "<table border=\"1\" class=\"dataframe\">\n",
              "  <thead>\n",
              "    <tr style=\"text-align: right;\">\n",
              "      <th></th>\n",
              "      <th>Make</th>\n",
              "      <th>Model</th>\n",
              "      <th>Type</th>\n",
              "      <th>Origin</th>\n",
              "      <th>DriveTrain</th>\n",
              "      <th>MSRP</th>\n",
              "      <th>Invoice</th>\n",
              "      <th>EngineSize</th>\n",
              "      <th>Cylinders</th>\n",
              "      <th>Horsepower</th>\n",
              "      <th>MPG_City</th>\n",
              "      <th>MPG_Highway</th>\n",
              "      <th>Weight</th>\n",
              "      <th>Wheelbase</th>\n",
              "      <th>Length</th>\n",
              "    </tr>\n",
              "  </thead>\n",
              "  <tbody>\n",
              "    <tr>\n",
              "      <th>3</th>\n",
              "      <td>Acura</td>\n",
              "      <td>TL 4dr</td>\n",
              "      <td>Sedan</td>\n",
              "      <td>Asia</td>\n",
              "      <td>Front</td>\n",
              "      <td>33195.0</td>\n",
              "      <td>30299.0</td>\n",
              "      <td>3.2</td>\n",
              "      <td>6.0</td>\n",
              "      <td>270.0</td>\n",
              "      <td>20.0</td>\n",
              "      <td>28.0</td>\n",
              "      <td>3575.0</td>\n",
              "      <td>108.0</td>\n",
              "      <td>186.0</td>\n",
              "    </tr>\n",
              "    <tr>\n",
              "      <th>4</th>\n",
              "      <td>Acura</td>\n",
              "      <td>3.5 RL 4dr</td>\n",
              "      <td>Sedan</td>\n",
              "      <td>Asia</td>\n",
              "      <td>Front</td>\n",
              "      <td>43755.0</td>\n",
              "      <td>39014.0</td>\n",
              "      <td>3.5</td>\n",
              "      <td>6.0</td>\n",
              "      <td>225.0</td>\n",
              "      <td>18.0</td>\n",
              "      <td>24.0</td>\n",
              "      <td>3880.0</td>\n",
              "      <td>115.0</td>\n",
              "      <td>197.0</td>\n",
              "    </tr>\n",
              "    <tr>\n",
              "      <th>5</th>\n",
              "      <td>Acura</td>\n",
              "      <td>3.5 RL w/Navigation 4dr</td>\n",
              "      <td>Sedan</td>\n",
              "      <td>Asia</td>\n",
              "      <td>Front</td>\n",
              "      <td>46100.0</td>\n",
              "      <td>41100.0</td>\n",
              "      <td>3.5</td>\n",
              "      <td>6.0</td>\n",
              "      <td>225.0</td>\n",
              "      <td>18.0</td>\n",
              "      <td>24.0</td>\n",
              "      <td>3893.0</td>\n",
              "      <td>115.0</td>\n",
              "      <td>197.0</td>\n",
              "    </tr>\n",
              "    <tr>\n",
              "      <th>6</th>\n",
              "      <td>Acura</td>\n",
              "      <td>NSX coupe 2dr manual S</td>\n",
              "      <td>Sports</td>\n",
              "      <td>Asia</td>\n",
              "      <td>Rear</td>\n",
              "      <td>89765.0</td>\n",
              "      <td>79978.0</td>\n",
              "      <td>3.2</td>\n",
              "      <td>6.0</td>\n",
              "      <td>290.0</td>\n",
              "      <td>17.0</td>\n",
              "      <td>24.0</td>\n",
              "      <td>3153.0</td>\n",
              "      <td>100.0</td>\n",
              "      <td>174.0</td>\n",
              "    </tr>\n",
              "  </tbody>\n",
              "</table>\n",
              "</div>"
            ],
            "text/plain": [
              "    Make                    Model    Type Origin DriveTrain     MSRP  Invoice  \\\n",
              "3  Acura                   TL 4dr   Sedan   Asia      Front  33195.0  30299.0   \n",
              "4  Acura               3.5 RL 4dr   Sedan   Asia      Front  43755.0  39014.0   \n",
              "5  Acura  3.5 RL w/Navigation 4dr   Sedan   Asia      Front  46100.0  41100.0   \n",
              "6  Acura   NSX coupe 2dr manual S  Sports   Asia       Rear  89765.0  79978.0   \n",
              "\n",
              "   EngineSize  Cylinders  Horsepower  MPG_City  MPG_Highway  Weight  \\\n",
              "3         3.2        6.0       270.0      20.0         28.0  3575.0   \n",
              "4         3.5        6.0       225.0      18.0         24.0  3880.0   \n",
              "5         3.5        6.0       225.0      18.0         24.0  3893.0   \n",
              "6         3.2        6.0       290.0      17.0         24.0  3153.0   \n",
              "\n",
              "   Wheelbase  Length  \n",
              "3      108.0   186.0  \n",
              "4      115.0   197.0  \n",
              "5      115.0   197.0  \n",
              "6      100.0   174.0  "
            ]
          },
          "metadata": {
            "tags": []
          },
          "execution_count": 14
        }
      ]
    },
    {
      "metadata": {
        "id": "xxGJTeHH1Yrm",
        "colab_type": "code",
        "colab": {
          "base_uri": "https://localhost:8080/",
          "height": 343
        },
        "outputId": "cc442b5b-2522-4c19-a5ce-a1340e800ae8"
      },
      "cell_type": "code",
      "source": [
        "df.iloc[[4, 5, 10, 12, 15]]"
      ],
      "execution_count": 15,
      "outputs": [
        {
          "output_type": "execute_result",
          "data": {
            "text/html": [
              "<div>\n",
              "<style scoped>\n",
              "    .dataframe tbody tr th:only-of-type {\n",
              "        vertical-align: middle;\n",
              "    }\n",
              "\n",
              "    .dataframe tbody tr th {\n",
              "        vertical-align: top;\n",
              "    }\n",
              "\n",
              "    .dataframe thead th {\n",
              "        text-align: right;\n",
              "    }\n",
              "</style>\n",
              "<table border=\"1\" class=\"dataframe\">\n",
              "  <thead>\n",
              "    <tr style=\"text-align: right;\">\n",
              "      <th></th>\n",
              "      <th>Make</th>\n",
              "      <th>Model</th>\n",
              "      <th>Type</th>\n",
              "      <th>Origin</th>\n",
              "      <th>DriveTrain</th>\n",
              "      <th>MSRP</th>\n",
              "      <th>Invoice</th>\n",
              "      <th>EngineSize</th>\n",
              "      <th>Cylinders</th>\n",
              "      <th>Horsepower</th>\n",
              "      <th>MPG_City</th>\n",
              "      <th>MPG_Highway</th>\n",
              "      <th>Weight</th>\n",
              "      <th>Wheelbase</th>\n",
              "      <th>Length</th>\n",
              "    </tr>\n",
              "  </thead>\n",
              "  <tbody>\n",
              "    <tr>\n",
              "      <th>4</th>\n",
              "      <td>Acura</td>\n",
              "      <td>3.5 RL 4dr</td>\n",
              "      <td>Sedan</td>\n",
              "      <td>Asia</td>\n",
              "      <td>Front</td>\n",
              "      <td>43755.0</td>\n",
              "      <td>39014.0</td>\n",
              "      <td>3.5</td>\n",
              "      <td>6.0</td>\n",
              "      <td>225.0</td>\n",
              "      <td>18.0</td>\n",
              "      <td>24.0</td>\n",
              "      <td>3880.0</td>\n",
              "      <td>115.0</td>\n",
              "      <td>197.0</td>\n",
              "    </tr>\n",
              "    <tr>\n",
              "      <th>5</th>\n",
              "      <td>Acura</td>\n",
              "      <td>3.5 RL w/Navigation 4dr</td>\n",
              "      <td>Sedan</td>\n",
              "      <td>Asia</td>\n",
              "      <td>Front</td>\n",
              "      <td>46100.0</td>\n",
              "      <td>41100.0</td>\n",
              "      <td>3.5</td>\n",
              "      <td>6.0</td>\n",
              "      <td>225.0</td>\n",
              "      <td>18.0</td>\n",
              "      <td>24.0</td>\n",
              "      <td>3893.0</td>\n",
              "      <td>115.0</td>\n",
              "      <td>197.0</td>\n",
              "    </tr>\n",
              "    <tr>\n",
              "      <th>10</th>\n",
              "      <td>Audi</td>\n",
              "      <td>A4 3.0 Quattro 4dr manual</td>\n",
              "      <td>Sedan</td>\n",
              "      <td>Europe</td>\n",
              "      <td>All</td>\n",
              "      <td>33430.0</td>\n",
              "      <td>30366.0</td>\n",
              "      <td>3.0</td>\n",
              "      <td>6.0</td>\n",
              "      <td>220.0</td>\n",
              "      <td>17.0</td>\n",
              "      <td>26.0</td>\n",
              "      <td>3583.0</td>\n",
              "      <td>104.0</td>\n",
              "      <td>179.0</td>\n",
              "    </tr>\n",
              "    <tr>\n",
              "      <th>12</th>\n",
              "      <td>Audi</td>\n",
              "      <td>A6 3.0 4dr</td>\n",
              "      <td>Sedan</td>\n",
              "      <td>Europe</td>\n",
              "      <td>Front</td>\n",
              "      <td>36640.0</td>\n",
              "      <td>33129.0</td>\n",
              "      <td>3.0</td>\n",
              "      <td>6.0</td>\n",
              "      <td>220.0</td>\n",
              "      <td>20.0</td>\n",
              "      <td>27.0</td>\n",
              "      <td>3561.0</td>\n",
              "      <td>109.0</td>\n",
              "      <td>192.0</td>\n",
              "    </tr>\n",
              "    <tr>\n",
              "      <th>15</th>\n",
              "      <td>Audi</td>\n",
              "      <td>A4 3.0 Quattro convertible 2dr</td>\n",
              "      <td>Sedan</td>\n",
              "      <td>Europe</td>\n",
              "      <td>All</td>\n",
              "      <td>44240.0</td>\n",
              "      <td>40075.0</td>\n",
              "      <td>3.0</td>\n",
              "      <td>6.0</td>\n",
              "      <td>220.0</td>\n",
              "      <td>18.0</td>\n",
              "      <td>25.0</td>\n",
              "      <td>4013.0</td>\n",
              "      <td>105.0</td>\n",
              "      <td>180.0</td>\n",
              "    </tr>\n",
              "  </tbody>\n",
              "</table>\n",
              "</div>"
            ],
            "text/plain": [
              "     Make                           Model   Type  Origin DriveTrain     MSRP  \\\n",
              "4   Acura                      3.5 RL 4dr  Sedan    Asia      Front  43755.0   \n",
              "5   Acura         3.5 RL w/Navigation 4dr  Sedan    Asia      Front  46100.0   \n",
              "10   Audi       A4 3.0 Quattro 4dr manual  Sedan  Europe        All  33430.0   \n",
              "12   Audi                      A6 3.0 4dr  Sedan  Europe      Front  36640.0   \n",
              "15   Audi  A4 3.0 Quattro convertible 2dr  Sedan  Europe        All  44240.0   \n",
              "\n",
              "    Invoice  EngineSize  Cylinders  Horsepower  MPG_City  MPG_Highway  Weight  \\\n",
              "4   39014.0         3.5        6.0       225.0      18.0         24.0  3880.0   \n",
              "5   41100.0         3.5        6.0       225.0      18.0         24.0  3893.0   \n",
              "10  30366.0         3.0        6.0       220.0      17.0         26.0  3583.0   \n",
              "12  33129.0         3.0        6.0       220.0      20.0         27.0  3561.0   \n",
              "15  40075.0         3.0        6.0       220.0      18.0         25.0  4013.0   \n",
              "\n",
              "    Wheelbase  Length  \n",
              "4       115.0   197.0  \n",
              "5       115.0   197.0  \n",
              "10      104.0   179.0  \n",
              "12      109.0   192.0  \n",
              "15      105.0   180.0  "
            ]
          },
          "metadata": {
            "tags": []
          },
          "execution_count": 15
        }
      ]
    },
    {
      "metadata": {
        "id": "pRvQ8te61rQp",
        "colab_type": "code",
        "colab": {
          "base_uri": "https://localhost:8080/",
          "height": 250
        },
        "outputId": "51249d74-bd29-4ef8-f57d-7148f28b8a1f"
      },
      "cell_type": "code",
      "source": [
        "df = df.set_index('Model')\n",
        "df.head()"
      ],
      "execution_count": 16,
      "outputs": [
        {
          "output_type": "execute_result",
          "data": {
            "text/html": [
              "<div>\n",
              "<style scoped>\n",
              "    .dataframe tbody tr th:only-of-type {\n",
              "        vertical-align: middle;\n",
              "    }\n",
              "\n",
              "    .dataframe tbody tr th {\n",
              "        vertical-align: top;\n",
              "    }\n",
              "\n",
              "    .dataframe thead th {\n",
              "        text-align: right;\n",
              "    }\n",
              "</style>\n",
              "<table border=\"1\" class=\"dataframe\">\n",
              "  <thead>\n",
              "    <tr style=\"text-align: right;\">\n",
              "      <th></th>\n",
              "      <th>Make</th>\n",
              "      <th>Type</th>\n",
              "      <th>Origin</th>\n",
              "      <th>DriveTrain</th>\n",
              "      <th>MSRP</th>\n",
              "      <th>Invoice</th>\n",
              "      <th>EngineSize</th>\n",
              "      <th>Cylinders</th>\n",
              "      <th>Horsepower</th>\n",
              "      <th>MPG_City</th>\n",
              "      <th>MPG_Highway</th>\n",
              "      <th>Weight</th>\n",
              "      <th>Wheelbase</th>\n",
              "      <th>Length</th>\n",
              "    </tr>\n",
              "    <tr>\n",
              "      <th>Model</th>\n",
              "      <th></th>\n",
              "      <th></th>\n",
              "      <th></th>\n",
              "      <th></th>\n",
              "      <th></th>\n",
              "      <th></th>\n",
              "      <th></th>\n",
              "      <th></th>\n",
              "      <th></th>\n",
              "      <th></th>\n",
              "      <th></th>\n",
              "      <th></th>\n",
              "      <th></th>\n",
              "      <th></th>\n",
              "    </tr>\n",
              "  </thead>\n",
              "  <tbody>\n",
              "    <tr>\n",
              "      <th>MDX</th>\n",
              "      <td>Acura</td>\n",
              "      <td>SUV</td>\n",
              "      <td>Asia</td>\n",
              "      <td>All</td>\n",
              "      <td>36945.0</td>\n",
              "      <td>33337.0</td>\n",
              "      <td>3.5</td>\n",
              "      <td>6.0</td>\n",
              "      <td>265.0</td>\n",
              "      <td>17.0</td>\n",
              "      <td>23.0</td>\n",
              "      <td>4451.0</td>\n",
              "      <td>106.0</td>\n",
              "      <td>189.0</td>\n",
              "    </tr>\n",
              "    <tr>\n",
              "      <th>RSX Type S 2dr</th>\n",
              "      <td>Acura</td>\n",
              "      <td>Sedan</td>\n",
              "      <td>Asia</td>\n",
              "      <td>Front</td>\n",
              "      <td>23820.0</td>\n",
              "      <td>21761.0</td>\n",
              "      <td>2.0</td>\n",
              "      <td>4.0</td>\n",
              "      <td>200.0</td>\n",
              "      <td>24.0</td>\n",
              "      <td>31.0</td>\n",
              "      <td>2778.0</td>\n",
              "      <td>101.0</td>\n",
              "      <td>172.0</td>\n",
              "    </tr>\n",
              "    <tr>\n",
              "      <th>TSX 4dr</th>\n",
              "      <td>Acura</td>\n",
              "      <td>Sedan</td>\n",
              "      <td>Asia</td>\n",
              "      <td>Front</td>\n",
              "      <td>26990.0</td>\n",
              "      <td>24647.0</td>\n",
              "      <td>2.4</td>\n",
              "      <td>4.0</td>\n",
              "      <td>200.0</td>\n",
              "      <td>22.0</td>\n",
              "      <td>29.0</td>\n",
              "      <td>3230.0</td>\n",
              "      <td>105.0</td>\n",
              "      <td>183.0</td>\n",
              "    </tr>\n",
              "    <tr>\n",
              "      <th>TL 4dr</th>\n",
              "      <td>Acura</td>\n",
              "      <td>Sedan</td>\n",
              "      <td>Asia</td>\n",
              "      <td>Front</td>\n",
              "      <td>33195.0</td>\n",
              "      <td>30299.0</td>\n",
              "      <td>3.2</td>\n",
              "      <td>6.0</td>\n",
              "      <td>270.0</td>\n",
              "      <td>20.0</td>\n",
              "      <td>28.0</td>\n",
              "      <td>3575.0</td>\n",
              "      <td>108.0</td>\n",
              "      <td>186.0</td>\n",
              "    </tr>\n",
              "    <tr>\n",
              "      <th>3.5 RL 4dr</th>\n",
              "      <td>Acura</td>\n",
              "      <td>Sedan</td>\n",
              "      <td>Asia</td>\n",
              "      <td>Front</td>\n",
              "      <td>43755.0</td>\n",
              "      <td>39014.0</td>\n",
              "      <td>3.5</td>\n",
              "      <td>6.0</td>\n",
              "      <td>225.0</td>\n",
              "      <td>18.0</td>\n",
              "      <td>24.0</td>\n",
              "      <td>3880.0</td>\n",
              "      <td>115.0</td>\n",
              "      <td>197.0</td>\n",
              "    </tr>\n",
              "  </tbody>\n",
              "</table>\n",
              "</div>"
            ],
            "text/plain": [
              "                 Make   Type Origin DriveTrain     MSRP  Invoice  EngineSize  \\\n",
              "Model                                                                          \n",
              "MDX             Acura    SUV   Asia        All  36945.0  33337.0         3.5   \n",
              "RSX Type S 2dr  Acura  Sedan   Asia      Front  23820.0  21761.0         2.0   \n",
              "TSX 4dr         Acura  Sedan   Asia      Front  26990.0  24647.0         2.4   \n",
              "TL 4dr          Acura  Sedan   Asia      Front  33195.0  30299.0         3.2   \n",
              "3.5 RL 4dr      Acura  Sedan   Asia      Front  43755.0  39014.0         3.5   \n",
              "\n",
              "                Cylinders  Horsepower  MPG_City  MPG_Highway  Weight  \\\n",
              "Model                                                                  \n",
              "MDX                   6.0       265.0      17.0         23.0  4451.0   \n",
              "RSX Type S 2dr        4.0       200.0      24.0         31.0  2778.0   \n",
              "TSX 4dr               4.0       200.0      22.0         29.0  3230.0   \n",
              "TL 4dr                6.0       270.0      20.0         28.0  3575.0   \n",
              "3.5 RL 4dr            6.0       225.0      18.0         24.0  3880.0   \n",
              "\n",
              "                Wheelbase  Length  \n",
              "Model                              \n",
              "MDX                 106.0   189.0  \n",
              "RSX Type S 2dr      101.0   172.0  \n",
              "TSX 4dr             105.0   183.0  \n",
              "TL 4dr              108.0   186.0  \n",
              "3.5 RL 4dr          115.0   197.0  "
            ]
          },
          "metadata": {
            "tags": []
          },
          "execution_count": 16
        }
      ]
    },
    {
      "metadata": {
        "id": "243zsdSS2F9H",
        "colab_type": "code",
        "colab": {
          "base_uri": "https://localhost:8080/",
          "height": 277
        },
        "outputId": "d6f4411c-0341-47bf-d87a-ddce9ef31330"
      },
      "cell_type": "code",
      "source": [
        "df.loc['MDX']"
      ],
      "execution_count": 17,
      "outputs": [
        {
          "output_type": "execute_result",
          "data": {
            "text/plain": [
              "Make           Acura\n",
              "Type             SUV\n",
              "Origin          Asia\n",
              "DriveTrain       All\n",
              "MSRP           36945\n",
              "Invoice        33337\n",
              "EngineSize       3.5\n",
              "Cylinders          6\n",
              "Horsepower       265\n",
              "MPG_City          17\n",
              "MPG_Highway       23\n",
              "Weight          4451\n",
              "Wheelbase        106\n",
              "Length           189\n",
              "Name: MDX, dtype: object"
            ]
          },
          "metadata": {
            "tags": []
          },
          "execution_count": 17
        }
      ]
    },
    {
      "metadata": {
        "id": "_7TgUCWL2bkv",
        "colab_type": "code",
        "colab": {
          "base_uri": "https://localhost:8080/",
          "height": 141
        },
        "outputId": "7553fc0c-97d3-4be9-b9df-c11a8fcc2fc0"
      },
      "cell_type": "code",
      "source": [
        "df.loc[['TSX 4dr','TL 4dr']]"
      ],
      "execution_count": 18,
      "outputs": [
        {
          "output_type": "execute_result",
          "data": {
            "text/html": [
              "<div>\n",
              "<style scoped>\n",
              "    .dataframe tbody tr th:only-of-type {\n",
              "        vertical-align: middle;\n",
              "    }\n",
              "\n",
              "    .dataframe tbody tr th {\n",
              "        vertical-align: top;\n",
              "    }\n",
              "\n",
              "    .dataframe thead th {\n",
              "        text-align: right;\n",
              "    }\n",
              "</style>\n",
              "<table border=\"1\" class=\"dataframe\">\n",
              "  <thead>\n",
              "    <tr style=\"text-align: right;\">\n",
              "      <th></th>\n",
              "      <th>Make</th>\n",
              "      <th>Type</th>\n",
              "      <th>Origin</th>\n",
              "      <th>DriveTrain</th>\n",
              "      <th>MSRP</th>\n",
              "      <th>Invoice</th>\n",
              "      <th>EngineSize</th>\n",
              "      <th>Cylinders</th>\n",
              "      <th>Horsepower</th>\n",
              "      <th>MPG_City</th>\n",
              "      <th>MPG_Highway</th>\n",
              "      <th>Weight</th>\n",
              "      <th>Wheelbase</th>\n",
              "      <th>Length</th>\n",
              "    </tr>\n",
              "    <tr>\n",
              "      <th>Model</th>\n",
              "      <th></th>\n",
              "      <th></th>\n",
              "      <th></th>\n",
              "      <th></th>\n",
              "      <th></th>\n",
              "      <th></th>\n",
              "      <th></th>\n",
              "      <th></th>\n",
              "      <th></th>\n",
              "      <th></th>\n",
              "      <th></th>\n",
              "      <th></th>\n",
              "      <th></th>\n",
              "      <th></th>\n",
              "    </tr>\n",
              "  </thead>\n",
              "  <tbody>\n",
              "    <tr>\n",
              "      <th>TSX 4dr</th>\n",
              "      <td>Acura</td>\n",
              "      <td>Sedan</td>\n",
              "      <td>Asia</td>\n",
              "      <td>Front</td>\n",
              "      <td>26990.0</td>\n",
              "      <td>24647.0</td>\n",
              "      <td>2.4</td>\n",
              "      <td>4.0</td>\n",
              "      <td>200.0</td>\n",
              "      <td>22.0</td>\n",
              "      <td>29.0</td>\n",
              "      <td>3230.0</td>\n",
              "      <td>105.0</td>\n",
              "      <td>183.0</td>\n",
              "    </tr>\n",
              "    <tr>\n",
              "      <th>TL 4dr</th>\n",
              "      <td>Acura</td>\n",
              "      <td>Sedan</td>\n",
              "      <td>Asia</td>\n",
              "      <td>Front</td>\n",
              "      <td>33195.0</td>\n",
              "      <td>30299.0</td>\n",
              "      <td>3.2</td>\n",
              "      <td>6.0</td>\n",
              "      <td>270.0</td>\n",
              "      <td>20.0</td>\n",
              "      <td>28.0</td>\n",
              "      <td>3575.0</td>\n",
              "      <td>108.0</td>\n",
              "      <td>186.0</td>\n",
              "    </tr>\n",
              "  </tbody>\n",
              "</table>\n",
              "</div>"
            ],
            "text/plain": [
              "          Make   Type Origin DriveTrain     MSRP  Invoice  EngineSize  \\\n",
              "Model                                                                   \n",
              "TSX 4dr  Acura  Sedan   Asia      Front  26990.0  24647.0         2.4   \n",
              "TL 4dr   Acura  Sedan   Asia      Front  33195.0  30299.0         3.2   \n",
              "\n",
              "         Cylinders  Horsepower  MPG_City  MPG_Highway  Weight  Wheelbase  \\\n",
              "Model                                                                      \n",
              "TSX 4dr        4.0       200.0      22.0         29.0  3230.0      105.0   \n",
              "TL 4dr         6.0       270.0      20.0         28.0  3575.0      108.0   \n",
              "\n",
              "         Length  \n",
              "Model            \n",
              "TSX 4dr   183.0  \n",
              "TL 4dr    186.0  "
            ]
          },
          "metadata": {
            "tags": []
          },
          "execution_count": 18
        }
      ]
    },
    {
      "metadata": {
        "id": "U9QpLBs62oVe",
        "colab_type": "code",
        "colab": {
          "base_uri": "https://localhost:8080/",
          "height": 202
        },
        "outputId": "e6728214-75f9-4366-9961-21dc335046ab"
      },
      "cell_type": "code",
      "source": [
        "df.iloc[1:5, 3:6]"
      ],
      "execution_count": 19,
      "outputs": [
        {
          "output_type": "execute_result",
          "data": {
            "text/html": [
              "<div>\n",
              "<style scoped>\n",
              "    .dataframe tbody tr th:only-of-type {\n",
              "        vertical-align: middle;\n",
              "    }\n",
              "\n",
              "    .dataframe tbody tr th {\n",
              "        vertical-align: top;\n",
              "    }\n",
              "\n",
              "    .dataframe thead th {\n",
              "        text-align: right;\n",
              "    }\n",
              "</style>\n",
              "<table border=\"1\" class=\"dataframe\">\n",
              "  <thead>\n",
              "    <tr style=\"text-align: right;\">\n",
              "      <th></th>\n",
              "      <th>DriveTrain</th>\n",
              "      <th>MSRP</th>\n",
              "      <th>Invoice</th>\n",
              "    </tr>\n",
              "    <tr>\n",
              "      <th>Model</th>\n",
              "      <th></th>\n",
              "      <th></th>\n",
              "      <th></th>\n",
              "    </tr>\n",
              "  </thead>\n",
              "  <tbody>\n",
              "    <tr>\n",
              "      <th>RSX Type S 2dr</th>\n",
              "      <td>Front</td>\n",
              "      <td>23820.0</td>\n",
              "      <td>21761.0</td>\n",
              "    </tr>\n",
              "    <tr>\n",
              "      <th>TSX 4dr</th>\n",
              "      <td>Front</td>\n",
              "      <td>26990.0</td>\n",
              "      <td>24647.0</td>\n",
              "    </tr>\n",
              "    <tr>\n",
              "      <th>TL 4dr</th>\n",
              "      <td>Front</td>\n",
              "      <td>33195.0</td>\n",
              "      <td>30299.0</td>\n",
              "    </tr>\n",
              "    <tr>\n",
              "      <th>3.5 RL 4dr</th>\n",
              "      <td>Front</td>\n",
              "      <td>43755.0</td>\n",
              "      <td>39014.0</td>\n",
              "    </tr>\n",
              "  </tbody>\n",
              "</table>\n",
              "</div>"
            ],
            "text/plain": [
              "               DriveTrain     MSRP  Invoice\n",
              "Model                                      \n",
              "RSX Type S 2dr      Front  23820.0  21761.0\n",
              "TSX 4dr             Front  26990.0  24647.0\n",
              "TL 4dr              Front  33195.0  30299.0\n",
              "3.5 RL 4dr          Front  43755.0  39014.0"
            ]
          },
          "metadata": {
            "tags": []
          },
          "execution_count": 19
        }
      ]
    },
    {
      "metadata": {
        "id": "hOxk7TXR3fIu",
        "colab_type": "code",
        "colab": {
          "base_uri": "https://localhost:8080/",
          "height": 1109
        },
        "outputId": "92318bfd-bde7-4ea3-fdf0-3acfbe2104a9"
      },
      "cell_type": "code",
      "source": [
        "df['MSRP'] > 2000"
      ],
      "execution_count": 22,
      "outputs": [
        {
          "output_type": "execute_result",
          "data": {
            "text/plain": [
              "Model\n",
              "MDX                                 True\n",
              "RSX Type S 2dr                      True\n",
              "TSX 4dr                             True\n",
              "TL 4dr                              True\n",
              "3.5 RL 4dr                          True\n",
              "3.5 RL w/Navigation 4dr             True\n",
              "NSX coupe 2dr manual S              True\n",
              "A4 1.8T 4dr                         True\n",
              "A41.8T convertible 2dr              True\n",
              "A4 3.0 4dr                          True\n",
              "A4 3.0 Quattro 4dr manual           True\n",
              "A4 3.0 Quattro 4dr auto             True\n",
              "A6 3.0 4dr                          True\n",
              "A6 3.0 Quattro 4dr                  True\n",
              "A4 3.0 convertible 2dr              True\n",
              "A4 3.0 Quattro convertible 2dr      True\n",
              "A6 2.7 Turbo Quattro 4dr            True\n",
              "A6 4.2 Quattro 4dr                  True\n",
              "A8 L Quattro 4dr                    True\n",
              "S4 Quattro 4dr                      True\n",
              "RS 6 4dr                            True\n",
              "TT 1.8 convertible 2dr (coupe)      True\n",
              "TT 1.8 Quattro 2dr (convertible)    True\n",
              "TT 3.2 coupe 2dr (convertible)      True\n",
              "A6 3.0 Avant Quattro                True\n",
              "S4 Avant Quattro                    True\n",
              "X3 3.0i                             True\n",
              "X5 4.4i                             True\n",
              "325i 4dr                            True\n",
              "325Ci 2dr                           True\n",
              "                                    ... \n",
              "Tundra Regular Cab V6               True\n",
              "Tundra Access Cab V6 SR5            True\n",
              "Matrix XR                           True\n",
              "Touareg V6                          True\n",
              "Golf GLS 4dr                        True\n",
              "GTI 1.8T 2dr hatch                  True\n",
              "Jetta GLS TDI 4dr                   True\n",
              "New Beetle GLS 1.8T 2dr             True\n",
              "Jetta GLI VR6 4dr                   True\n",
              "New Beetle GLS convertible 2dr      True\n",
              "Passat GLS 4dr                      True\n",
              "Passat GLX V6 4MOTION 4dr           True\n",
              "Passat W8 4MOTION 4dr               True\n",
              "Phaeton 4dr                         True\n",
              "Phaeton W12 4dr                     True\n",
              "Jetta GL                            True\n",
              "Passat GLS 1.8T                     True\n",
              "Passat W8                           True\n",
              "XC90 T6                             True\n",
              "S40 4dr                             True\n",
              "S60 2.5 4dr                         True\n",
              "S60 T5 4dr                          True\n",
              "S60 R 4dr                           True\n",
              "S80 2.9 4dr                         True\n",
              "S80 2.5T 4dr                        True\n",
              "C70 LPT convertible 2dr             True\n",
              "C70 HPT convertible 2dr             True\n",
              "S80 T6 4dr                          True\n",
              "V40                                 True\n",
              "XC70                                True\n",
              "Name: MSRP, Length: 428, dtype: bool"
            ]
          },
          "metadata": {
            "tags": []
          },
          "execution_count": 22
        }
      ]
    },
    {
      "metadata": {
        "id": "k2HlgpNk3I8G",
        "colab_type": "code",
        "colab": {
          "base_uri": "https://localhost:8080/",
          "height": 287
        },
        "outputId": "231e8a6b-ce8b-451a-d03e-096c259ad581"
      },
      "cell_type": "code",
      "source": [
        "df[df.Enginesize == 2.4]()"
      ],
      "execution_count": 28,
      "outputs": [
        {
          "output_type": "error",
          "ename": "AttributeError",
          "evalue": "ignored",
          "traceback": [
            "\u001b[0;31m\u001b[0m",
            "\u001b[0;31mAttributeError\u001b[0mTraceback (most recent call last)",
            "\u001b[0;32m<ipython-input-28-06885e9e9ef8>\u001b[0m in \u001b[0;36m<module>\u001b[0;34m()\u001b[0m\n\u001b[0;32m----> 1\u001b[0;31m \u001b[0mdf\u001b[0m\u001b[0;34m[\u001b[0m\u001b[0mdf\u001b[0m\u001b[0;34m.\u001b[0m\u001b[0mEnginesize\u001b[0m \u001b[0;34m==\u001b[0m \u001b[0;36m2.4\u001b[0m\u001b[0;34m]\u001b[0m\u001b[0;34m(\u001b[0m\u001b[0;34m)\u001b[0m\u001b[0;34m\u001b[0m\u001b[0m\n\u001b[0m",
            "\u001b[0;32m/usr/local/lib/python2.7/dist-packages/pandas/core/generic.pyc\u001b[0m in \u001b[0;36m__getattr__\u001b[0;34m(self, name)\u001b[0m\n\u001b[1;32m   3612\u001b[0m             \u001b[0;32mif\u001b[0m \u001b[0mname\u001b[0m \u001b[0;32min\u001b[0m \u001b[0mself\u001b[0m\u001b[0;34m.\u001b[0m\u001b[0m_info_axis\u001b[0m\u001b[0;34m:\u001b[0m\u001b[0;34m\u001b[0m\u001b[0m\n\u001b[1;32m   3613\u001b[0m                 \u001b[0;32mreturn\u001b[0m \u001b[0mself\u001b[0m\u001b[0;34m[\u001b[0m\u001b[0mname\u001b[0m\u001b[0;34m]\u001b[0m\u001b[0;34m\u001b[0m\u001b[0m\n\u001b[0;32m-> 3614\u001b[0;31m             \u001b[0;32mreturn\u001b[0m \u001b[0mobject\u001b[0m\u001b[0;34m.\u001b[0m\u001b[0m__getattribute__\u001b[0m\u001b[0;34m(\u001b[0m\u001b[0mself\u001b[0m\u001b[0;34m,\u001b[0m \u001b[0mname\u001b[0m\u001b[0;34m)\u001b[0m\u001b[0;34m\u001b[0m\u001b[0m\n\u001b[0m\u001b[1;32m   3615\u001b[0m \u001b[0;34m\u001b[0m\u001b[0m\n\u001b[1;32m   3616\u001b[0m     \u001b[0;32mdef\u001b[0m \u001b[0m__setattr__\u001b[0m\u001b[0;34m(\u001b[0m\u001b[0mself\u001b[0m\u001b[0;34m,\u001b[0m \u001b[0mname\u001b[0m\u001b[0;34m,\u001b[0m \u001b[0mvalue\u001b[0m\u001b[0;34m)\u001b[0m\u001b[0;34m:\u001b[0m\u001b[0;34m\u001b[0m\u001b[0m\n",
            "\u001b[0;31mAttributeError\u001b[0m: 'DataFrame' object has no attribute 'Enginesize'"
          ]
        }
      ]
    },
    {
      "metadata": {
        "id": "k1ed63GX38ju",
        "colab_type": "code",
        "colab": {
          "base_uri": "https://localhost:8080/",
          "height": 35
        },
        "outputId": "b1204f0e-0a46-4199-a957-06719b0c4ed0"
      },
      "cell_type": "code",
      "source": [
        "grpdf = df.groupby('Origin')\n",
        "print(grpdf)"
      ],
      "execution_count": 29,
      "outputs": [
        {
          "output_type": "stream",
          "text": [
            "<pandas.core.groupby.DataFrameGroupBy object at 0x7f428d34b690>\n"
          ],
          "name": "stdout"
        }
      ]
    },
    {
      "metadata": {
        "id": "ESFlRKm93p7P",
        "colab_type": "code",
        "colab": {
          "base_uri": "https://localhost:8080/",
          "height": 294
        },
        "outputId": "a63ac070-57e5-496b-f86b-e18978c13cec"
      },
      "cell_type": "code",
      "source": [
        "df.describe()"
      ],
      "execution_count": 30,
      "outputs": [
        {
          "output_type": "execute_result",
          "data": {
            "text/html": [
              "<div>\n",
              "<style scoped>\n",
              "    .dataframe tbody tr th:only-of-type {\n",
              "        vertical-align: middle;\n",
              "    }\n",
              "\n",
              "    .dataframe tbody tr th {\n",
              "        vertical-align: top;\n",
              "    }\n",
              "\n",
              "    .dataframe thead th {\n",
              "        text-align: right;\n",
              "    }\n",
              "</style>\n",
              "<table border=\"1\" class=\"dataframe\">\n",
              "  <thead>\n",
              "    <tr style=\"text-align: right;\">\n",
              "      <th></th>\n",
              "      <th>MSRP</th>\n",
              "      <th>Invoice</th>\n",
              "      <th>EngineSize</th>\n",
              "      <th>Cylinders</th>\n",
              "      <th>Horsepower</th>\n",
              "      <th>MPG_City</th>\n",
              "      <th>MPG_Highway</th>\n",
              "      <th>Weight</th>\n",
              "      <th>Wheelbase</th>\n",
              "      <th>Length</th>\n",
              "    </tr>\n",
              "  </thead>\n",
              "  <tbody>\n",
              "    <tr>\n",
              "      <th>count</th>\n",
              "      <td>428.000000</td>\n",
              "      <td>428.000000</td>\n",
              "      <td>428.000000</td>\n",
              "      <td>426.000000</td>\n",
              "      <td>428.000000</td>\n",
              "      <td>428.000000</td>\n",
              "      <td>428.000000</td>\n",
              "      <td>428.000000</td>\n",
              "      <td>428.000000</td>\n",
              "      <td>428.000000</td>\n",
              "    </tr>\n",
              "    <tr>\n",
              "      <th>mean</th>\n",
              "      <td>32774.855140</td>\n",
              "      <td>30014.700935</td>\n",
              "      <td>3.196729</td>\n",
              "      <td>5.807512</td>\n",
              "      <td>215.885514</td>\n",
              "      <td>20.060748</td>\n",
              "      <td>26.843458</td>\n",
              "      <td>3577.953271</td>\n",
              "      <td>108.154206</td>\n",
              "      <td>186.362150</td>\n",
              "    </tr>\n",
              "    <tr>\n",
              "      <th>std</th>\n",
              "      <td>19431.716674</td>\n",
              "      <td>17642.117750</td>\n",
              "      <td>1.108595</td>\n",
              "      <td>1.558443</td>\n",
              "      <td>71.836032</td>\n",
              "      <td>5.238218</td>\n",
              "      <td>5.741201</td>\n",
              "      <td>758.983215</td>\n",
              "      <td>8.311813</td>\n",
              "      <td>14.357991</td>\n",
              "    </tr>\n",
              "    <tr>\n",
              "      <th>min</th>\n",
              "      <td>10280.000000</td>\n",
              "      <td>9875.000000</td>\n",
              "      <td>1.300000</td>\n",
              "      <td>3.000000</td>\n",
              "      <td>73.000000</td>\n",
              "      <td>10.000000</td>\n",
              "      <td>12.000000</td>\n",
              "      <td>1850.000000</td>\n",
              "      <td>89.000000</td>\n",
              "      <td>143.000000</td>\n",
              "    </tr>\n",
              "    <tr>\n",
              "      <th>25%</th>\n",
              "      <td>20334.250000</td>\n",
              "      <td>18866.000000</td>\n",
              "      <td>2.375000</td>\n",
              "      <td>4.000000</td>\n",
              "      <td>165.000000</td>\n",
              "      <td>17.000000</td>\n",
              "      <td>24.000000</td>\n",
              "      <td>3104.000000</td>\n",
              "      <td>103.000000</td>\n",
              "      <td>178.000000</td>\n",
              "    </tr>\n",
              "    <tr>\n",
              "      <th>50%</th>\n",
              "      <td>27635.000000</td>\n",
              "      <td>25294.500000</td>\n",
              "      <td>3.000000</td>\n",
              "      <td>6.000000</td>\n",
              "      <td>210.000000</td>\n",
              "      <td>19.000000</td>\n",
              "      <td>26.000000</td>\n",
              "      <td>3474.500000</td>\n",
              "      <td>107.000000</td>\n",
              "      <td>187.000000</td>\n",
              "    </tr>\n",
              "    <tr>\n",
              "      <th>75%</th>\n",
              "      <td>39205.000000</td>\n",
              "      <td>35710.250000</td>\n",
              "      <td>3.900000</td>\n",
              "      <td>6.000000</td>\n",
              "      <td>255.000000</td>\n",
              "      <td>21.250000</td>\n",
              "      <td>29.000000</td>\n",
              "      <td>3977.750000</td>\n",
              "      <td>112.000000</td>\n",
              "      <td>194.000000</td>\n",
              "    </tr>\n",
              "    <tr>\n",
              "      <th>max</th>\n",
              "      <td>192465.000000</td>\n",
              "      <td>173560.000000</td>\n",
              "      <td>8.300000</td>\n",
              "      <td>12.000000</td>\n",
              "      <td>500.000000</td>\n",
              "      <td>60.000000</td>\n",
              "      <td>66.000000</td>\n",
              "      <td>7190.000000</td>\n",
              "      <td>144.000000</td>\n",
              "      <td>238.000000</td>\n",
              "    </tr>\n",
              "  </tbody>\n",
              "</table>\n",
              "</div>"
            ],
            "text/plain": [
              "                MSRP        Invoice  EngineSize   Cylinders  Horsepower  \\\n",
              "count     428.000000     428.000000  428.000000  426.000000  428.000000   \n",
              "mean    32774.855140   30014.700935    3.196729    5.807512  215.885514   \n",
              "std     19431.716674   17642.117750    1.108595    1.558443   71.836032   \n",
              "min     10280.000000    9875.000000    1.300000    3.000000   73.000000   \n",
              "25%     20334.250000   18866.000000    2.375000    4.000000  165.000000   \n",
              "50%     27635.000000   25294.500000    3.000000    6.000000  210.000000   \n",
              "75%     39205.000000   35710.250000    3.900000    6.000000  255.000000   \n",
              "max    192465.000000  173560.000000    8.300000   12.000000  500.000000   \n",
              "\n",
              "         MPG_City  MPG_Highway       Weight   Wheelbase      Length  \n",
              "count  428.000000   428.000000   428.000000  428.000000  428.000000  \n",
              "mean    20.060748    26.843458  3577.953271  108.154206  186.362150  \n",
              "std      5.238218     5.741201   758.983215    8.311813   14.357991  \n",
              "min     10.000000    12.000000  1850.000000   89.000000  143.000000  \n",
              "25%     17.000000    24.000000  3104.000000  103.000000  178.000000  \n",
              "50%     19.000000    26.000000  3474.500000  107.000000  187.000000  \n",
              "75%     21.250000    29.000000  3977.750000  112.000000  194.000000  \n",
              "max     60.000000    66.000000  7190.000000  144.000000  238.000000  "
            ]
          },
          "metadata": {
            "tags": []
          },
          "execution_count": 30
        }
      ]
    },
    {
      "metadata": {
        "id": "eXprBuJ83tr_",
        "colab_type": "code",
        "colab": {
          "base_uri": "https://localhost:8080/",
          "height": 277
        },
        "outputId": "3c7feb56-00dd-4465-c9db-c43004d752f9"
      },
      "cell_type": "code",
      "source": [
        "df.min()"
      ],
      "execution_count": 25,
      "outputs": [
        {
          "output_type": "execute_result",
          "data": {
            "text/plain": [
              "Make            Acura\n",
              "Type           Hybrid\n",
              "Origin           Asia\n",
              "DriveTrain        All\n",
              "MSRP            10280\n",
              "Invoice          9875\n",
              "EngineSize        1.3\n",
              "Cylinders           3\n",
              "Horsepower         73\n",
              "MPG_City           10\n",
              "MPG_Highway        12\n",
              "Weight           1850\n",
              "Wheelbase          89\n",
              "Length            143\n",
              "dtype: object"
            ]
          },
          "metadata": {
            "tags": []
          },
          "execution_count": 25
        }
      ]
    },
    {
      "metadata": {
        "id": "3iIyvqQo3xU1",
        "colab_type": "code",
        "colab": {
          "base_uri": "https://localhost:8080/",
          "height": 277
        },
        "outputId": "2b3d52e1-1da4-4cc4-8c35-663985349cf4"
      },
      "cell_type": "code",
      "source": [
        "df.max()"
      ],
      "execution_count": 26,
      "outputs": [
        {
          "output_type": "execute_result",
          "data": {
            "text/plain": [
              "Make            Volvo\n",
              "Type            Wagon\n",
              "Origin            USA\n",
              "DriveTrain       Rear\n",
              "MSRP           192465\n",
              "Invoice        173560\n",
              "EngineSize        8.3\n",
              "Cylinders          12\n",
              "Horsepower        500\n",
              "MPG_City           60\n",
              "MPG_Highway        66\n",
              "Weight           7190\n",
              "Wheelbase         144\n",
              "Length            238\n",
              "dtype: object"
            ]
          },
          "metadata": {
            "tags": []
          },
          "execution_count": 26
        }
      ]
    },
    {
      "metadata": {
        "id": "M688Un4u3zgH",
        "colab_type": "code",
        "colab": {
          "base_uri": "https://localhost:8080/",
          "height": 173
        },
        "outputId": "924d1009-fbc9-483b-b836-421eb7e08faa"
      },
      "cell_type": "code",
      "source": [
        "df.MSRP.describe()"
      ],
      "execution_count": 27,
      "outputs": [
        {
          "output_type": "execute_result",
          "data": {
            "text/plain": [
              "count       428.000000\n",
              "mean      32774.855140\n",
              "std       19431.716674\n",
              "min       10280.000000\n",
              "25%       20334.250000\n",
              "50%       27635.000000\n",
              "75%       39205.000000\n",
              "max      192465.000000\n",
              "Name: MSRP, dtype: float64"
            ]
          },
          "metadata": {
            "tags": []
          },
          "execution_count": 27
        }
      ]
    },
    {
      "metadata": {
        "id": "jV2zaz0d4O0h",
        "colab_type": "code",
        "colab": {
          "base_uri": "https://localhost:8080/",
          "height": 406
        },
        "outputId": "c8d2a3ba-126a-4a0f-d065-df8811331752"
      },
      "cell_type": "code",
      "source": [
        "df.plot(kind='scatter',x='MSRP',y='Horsepower',figsize=(12,6))"
      ],
      "execution_count": 31,
      "outputs": [
        {
          "output_type": "execute_result",
          "data": {
            "text/plain": [
              "<matplotlib.axes._subplots.AxesSubplot at 0x7f428d34b0d0>"
            ]
          },
          "metadata": {
            "tags": []
          },
          "execution_count": 31
        },
        {
          "output_type": "display_data",
          "data": {
            "image/png": "[encoded data removed]",
            "text/plain": [
              "<matplotlib.figure.Figure at 0x7f428d243dd0>"
            ]
          },
          "metadata": {
            "tags": []
          }
        }
      ]
    },
    {
      "metadata": {
        "id": "sr8KEZ2P4iYl",
        "colab_type": "code",
        "colab": {
          "base_uri": "https://localhost:8080/",
          "height": 355
        },
        "outputId": "dc20a155-b4cd-48d1-e2ca-1aa1130c66ef"
      },
      "cell_type": "code",
      "source": [
        "df.corr()"
      ],
      "execution_count": 32,
      "outputs": [
        {
          "output_type": "execute_result",
          "data": {
            "text/html": [
              "<div>\n",
              "<style scoped>\n",
              "    .dataframe tbody tr th:only-of-type {\n",
              "        vertical-align: middle;\n",
              "    }\n",
              "\n",
              "    .dataframe tbody tr th {\n",
              "        vertical-align: top;\n",
              "    }\n",
              "\n",
              "    .dataframe thead th {\n",
              "        text-align: right;\n",
              "    }\n",
              "</style>\n",
              "<table border=\"1\" class=\"dataframe\">\n",
              "  <thead>\n",
              "    <tr style=\"text-align: right;\">\n",
              "      <th></th>\n",
              "      <th>MSRP</th>\n",
              "      <th>Invoice</th>\n",
              "      <th>EngineSize</th>\n",
              "      <th>Cylinders</th>\n",
              "      <th>Horsepower</th>\n",
              "      <th>MPG_City</th>\n",
              "      <th>MPG_Highway</th>\n",
              "      <th>Weight</th>\n",
              "      <th>Wheelbase</th>\n",
              "      <th>Length</th>\n",
              "    </tr>\n",
              "  </thead>\n",
              "  <tbody>\n",
              "    <tr>\n",
              "      <th>MSRP</th>\n",
              "      <td>1.000000</td>\n",
              "      <td>0.999132</td>\n",
              "      <td>0.571753</td>\n",
              "      <td>0.649742</td>\n",
              "      <td>0.826945</td>\n",
              "      <td>-0.475020</td>\n",
              "      <td>-0.439622</td>\n",
              "      <td>0.448426</td>\n",
              "      <td>0.152000</td>\n",
              "      <td>0.172037</td>\n",
              "    </tr>\n",
              "    <tr>\n",
              "      <th>Invoice</th>\n",
              "      <td>0.999132</td>\n",
              "      <td>1.000000</td>\n",
              "      <td>0.564498</td>\n",
              "      <td>0.645226</td>\n",
              "      <td>0.823746</td>\n",
              "      <td>-0.470442</td>\n",
              "      <td>-0.434585</td>\n",
              "      <td>0.442332</td>\n",
              "      <td>0.148328</td>\n",
              "      <td>0.166586</td>\n",
              "    </tr>\n",
              "    <tr>\n",
              "      <th>EngineSize</th>\n",
              "      <td>0.571753</td>\n",
              "      <td>0.564498</td>\n",
              "      <td>1.000000</td>\n",
              "      <td>0.908002</td>\n",
              "      <td>0.787435</td>\n",
              "      <td>-0.709471</td>\n",
              "      <td>-0.717302</td>\n",
              "      <td>0.807867</td>\n",
              "      <td>0.636517</td>\n",
              "      <td>0.637448</td>\n",
              "    </tr>\n",
              "    <tr>\n",
              "      <th>Cylinders</th>\n",
              "      <td>0.649742</td>\n",
              "      <td>0.645226</td>\n",
              "      <td>0.908002</td>\n",
              "      <td>1.000000</td>\n",
              "      <td>0.810341</td>\n",
              "      <td>-0.684402</td>\n",
              "      <td>-0.676100</td>\n",
              "      <td>0.742209</td>\n",
              "      <td>0.546730</td>\n",
              "      <td>0.547783</td>\n",
              "    </tr>\n",
              "    <tr>\n",
              "      <th>Horsepower</th>\n",
              "      <td>0.826945</td>\n",
              "      <td>0.823746</td>\n",
              "      <td>0.787435</td>\n",
              "      <td>0.810341</td>\n",
              "      <td>1.000000</td>\n",
              "      <td>-0.676699</td>\n",
              "      <td>-0.647195</td>\n",
              "      <td>0.630796</td>\n",
              "      <td>0.387398</td>\n",
              "      <td>0.381554</td>\n",
              "    </tr>\n",
              "    <tr>\n",
              "      <th>MPG_City</th>\n",
              "      <td>-0.475020</td>\n",
              "      <td>-0.470442</td>\n",
              "      <td>-0.709471</td>\n",
              "      <td>-0.684402</td>\n",
              "      <td>-0.676699</td>\n",
              "      <td>1.000000</td>\n",
              "      <td>0.941021</td>\n",
              "      <td>-0.737966</td>\n",
              "      <td>-0.507284</td>\n",
              "      <td>-0.501526</td>\n",
              "    </tr>\n",
              "    <tr>\n",
              "      <th>MPG_Highway</th>\n",
              "      <td>-0.439622</td>\n",
              "      <td>-0.434585</td>\n",
              "      <td>-0.717302</td>\n",
              "      <td>-0.676100</td>\n",
              "      <td>-0.647195</td>\n",
              "      <td>0.941021</td>\n",
              "      <td>1.000000</td>\n",
              "      <td>-0.790989</td>\n",
              "      <td>-0.524661</td>\n",
              "      <td>-0.466092</td>\n",
              "    </tr>\n",
              "    <tr>\n",
              "      <th>Weight</th>\n",
              "      <td>0.448426</td>\n",
              "      <td>0.442332</td>\n",
              "      <td>0.807867</td>\n",
              "      <td>0.742209</td>\n",
              "      <td>0.630796</td>\n",
              "      <td>-0.737966</td>\n",
              "      <td>-0.790989</td>\n",
              "      <td>1.000000</td>\n",
              "      <td>0.760703</td>\n",
              "      <td>0.690021</td>\n",
              "    </tr>\n",
              "    <tr>\n",
              "      <th>Wheelbase</th>\n",
              "      <td>0.152000</td>\n",
              "      <td>0.148328</td>\n",
              "      <td>0.636517</td>\n",
              "      <td>0.546730</td>\n",
              "      <td>0.387398</td>\n",
              "      <td>-0.507284</td>\n",
              "      <td>-0.524661</td>\n",
              "      <td>0.760703</td>\n",
              "      <td>1.000000</td>\n",
              "      <td>0.889195</td>\n",
              "    </tr>\n",
              "    <tr>\n",
              "      <th>Length</th>\n",
              "      <td>0.172037</td>\n",
              "      <td>0.166586</td>\n",
              "      <td>0.637448</td>\n",
              "      <td>0.547783</td>\n",
              "      <td>0.381554</td>\n",
              "      <td>-0.501526</td>\n",
              "      <td>-0.466092</td>\n",
              "      <td>0.690021</td>\n",
              "      <td>0.889195</td>\n",
              "      <td>1.000000</td>\n",
              "    </tr>\n",
              "  </tbody>\n",
              "</table>\n",
              "</div>"
            ],
            "text/plain": [
              "                 MSRP   Invoice  EngineSize  Cylinders  Horsepower  MPG_City  \\\n",
              "MSRP         1.000000  0.999132    0.571753   0.649742    0.826945 -0.475020   \n",
              "Invoice      0.999132  1.000000    0.564498   0.645226    0.823746 -0.470442   \n",
              "EngineSize   0.571753  0.564498    1.000000   0.908002    0.787435 -0.709471   \n",
              "Cylinders    0.649742  0.645226    0.908002   1.000000    0.810341 -0.684402   \n",
              "Horsepower   0.826945  0.823746    0.787435   0.810341    1.000000 -0.676699   \n",
              "MPG_City    -0.475020 -0.470442   -0.709471  -0.684402   -0.676699  1.000000   \n",
              "MPG_Highway -0.439622 -0.434585   -0.717302  -0.676100   -0.647195  0.941021   \n",
              "Weight       0.448426  0.442332    0.807867   0.742209    0.630796 -0.737966   \n",
              "Wheelbase    0.152000  0.148328    0.636517   0.546730    0.387398 -0.507284   \n",
              "Length       0.172037  0.166586    0.637448   0.547783    0.381554 -0.501526   \n",
              "\n",
              "             MPG_Highway    Weight  Wheelbase    Length  \n",
              "MSRP           -0.439622  0.448426   0.152000  0.172037  \n",
              "Invoice        -0.434585  0.442332   0.148328  0.166586  \n",
              "EngineSize     -0.717302  0.807867   0.636517  0.637448  \n",
              "Cylinders      -0.676100  0.742209   0.546730  0.547783  \n",
              "Horsepower     -0.647195  0.630796   0.387398  0.381554  \n",
              "MPG_City        0.941021 -0.737966  -0.507284 -0.501526  \n",
              "MPG_Highway     1.000000 -0.790989  -0.524661 -0.466092  \n",
              "Weight         -0.790989  1.000000   0.760703  0.690021  \n",
              "Wheelbase      -0.524661  0.760703   1.000000  0.889195  \n",
              "Length         -0.466092  0.690021   0.889195  1.000000  "
            ]
          },
          "metadata": {
            "tags": []
          },
          "execution_count": 32
        }
      ]
    }
  ]
}